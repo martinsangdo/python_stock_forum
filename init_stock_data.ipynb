{
 "cells": [
  {
   "cell_type": "code",
   "execution_count": 1,
   "metadata": {},
   "outputs": [],
   "source": [
    "import requests\n",
    "import pymongo"
   ]
  },
  {
   "cell_type": "code",
   "execution_count": 2,
   "metadata": {},
   "outputs": [
    {
     "name": "stdout",
     "output_type": "stream",
     "text": [
      "https://finnhub.io/api/v1/\n"
     ]
    }
   ],
   "source": [
    "from dotenv import load_dotenv\n",
    "load_dotenv() \n",
    "import os\n",
    "\n",
    "FINNHUB_KEY = os.environ['FINNHUB_KEY']\n",
    "FINNHUB_URI = os.environ['FINNHUB_URI']\n",
    "\n",
    "print(FINNHUB_URI)"
   ]
  },
  {
   "cell_type": "code",
   "execution_count": 3,
   "metadata": {},
   "outputs": [],
   "source": [
    "#save all book links to db\n",
    "import pymongo\n",
    "# Connect to MongoDB\n",
    "client = pymongo.MongoClient(\"mongodb://localhost:27017/\")\n",
    "\n",
    "# Access a database\n",
    "db = client[\"stock_forum\"]\n",
    "\n",
    "# Access a collection\n",
    "tbl_stock = db[\"tbl_stock\"]"
   ]
  },
  {
   "cell_type": "code",
   "execution_count": 4,
   "metadata": {},
   "outputs": [],
   "source": [
    "def custom_query(get_url):\n",
    "    print(get_url)\n",
    "    try:\n",
    "        r = requests.get(get_url)\n",
    "        return r.json()\n",
    "    except Exception as e:\n",
    "       print(e)\n",
    "       return r"
   ]
  },
  {
   "cell_type": "code",
   "execution_count": 5,
   "metadata": {},
   "outputs": [
    {
     "name": "stdout",
     "output_type": "stream",
     "text": [
      "https://finnhub.io/api/v1/stock/symbol?exchange=US&token=cu5b37pr01qqj8u65ufgcu5b37pr01qqj8u65ug0\n",
      "{'currency': 'USD', 'description': 'TERRACE ENERGY CORP', 'displaySymbol': 'TCRRF', 'figi': 'BBG000WCQW17', 'isin': None, 'mic': 'OOTC', 'shareClassFIGI': 'BBG001STBC13', 'symbol': 'TCRRF', 'symbol2': '', 'type': 'Common Stock'}\n"
     ]
    }
   ],
   "source": [
    "#1. Get all stock symbols\n",
    "stock_list_url = FINNHUB_URI + 'stock/symbol?exchange=US&token=' + FINNHUB_KEY\n",
    "\n",
    "stock_list = custom_query(stock_list_url)\n",
    "print(stock_list[0])"
   ]
  },
  {
   "cell_type": "code",
   "execution_count": 8,
   "metadata": {},
   "outputs": [
    {
     "name": "stdout",
     "output_type": "stream",
     "text": [
      "{'_id': ObjectId('678ab5f520c6690d5c97bd91'), 'currency': 'USD', 'description': 'SORTIS HOLDINGS INC', 'mic': 'OOTC', 'symbol': '111', 'type': 'Common Stock', 'about': 'long_text 111', 'wachers': 34567}\n"
     ]
    }
   ],
   "source": [
    "db_stocks = tbl_stock.find({})\n",
    "print(db_stocks[0])"
   ]
  },
  {
   "cell_type": "code",
   "execution_count": null,
   "metadata": {},
   "outputs": [],
   "source": [
    "#2. save basic info to db -> 2 mins\n",
    "for stock in stock_list:\n",
    "    if stock['mic'].find('OTC') >= 0:    #this app is used for OTC market\n",
    "        #upsert to db\n",
    "        db_stock_detail = tbl_stock.find_one({'symbol': stock['symbol']})\n",
    "        if db_stock_detail is None:\n",
    "            #insert\n",
    "            tbl_stock.insert_one({\n",
    "                'symbol': stock['symbol'],\n",
    "                \"currency\" : stock['currency'],\n",
    "                \"description\" : stock['description'],\n",
    "                \"mic\" : stock['mic'],\n",
    "                \"type\" : stock['type']\n",
    "            })\n",
    "        else:\n",
    "            #update\n",
    "            tbl_stock.update_one({'symbol': stock['symbol']}, {'$set':{\n",
    "                \"currency\" : stock['currency'],\n",
    "                \"description\" : stock['description'],\n",
    "                \"mic\" : stock['mic'],\n",
    "                \"type\" : stock['type']\n",
    "            }})"
   ]
  },
  {
   "cell_type": "code",
   "execution_count": null,
   "metadata": {},
   "outputs": [],
   "source": []
  }
 ],
 "metadata": {
  "kernelspec": {
   "display_name": "Python 3",
   "language": "python",
   "name": "python3"
  },
  "language_info": {
   "codemirror_mode": {
    "name": "ipython",
    "version": 3
   },
   "file_extension": ".py",
   "mimetype": "text/x-python",
   "name": "python",
   "nbconvert_exporter": "python",
   "pygments_lexer": "ipython3",
   "version": "3.13.1"
  }
 },
 "nbformat": 4,
 "nbformat_minor": 2
}
