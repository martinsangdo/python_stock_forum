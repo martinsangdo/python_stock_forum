{
 "cells": [
  {
   "cell_type": "code",
   "execution_count": 3,
   "metadata": {},
   "outputs": [],
   "source": [
    "import requests\n",
    "import pymongo"
   ]
  },
  {
   "cell_type": "code",
   "execution_count": 56,
   "metadata": {},
   "outputs": [],
   "source": [
    "from dotenv import load_dotenv\n",
    "load_dotenv() \n",
    "import os\n",
    "\n",
    "FINNHUB_KEY = os.environ['FINNHUB_KEY']\n",
    "FINNHUB_URI = os.environ['FINNHUB_URI']\n",
    "GG_GEMINI_API = os.environ['GG_GEMINI_API']\n"
   ]
  },
  {
   "cell_type": "code",
   "execution_count": 5,
   "metadata": {},
   "outputs": [],
   "source": [
    "sample_symbol = 'GWSO'"
   ]
  },
  {
   "cell_type": "code",
   "execution_count": 6,
   "metadata": {},
   "outputs": [],
   "source": [
    "#save all book links to db\n",
    "import pymongo\n",
    "# Connect to MongoDB\n",
    "client = pymongo.MongoClient(\"mongodb://localhost:27017/\")\n",
    "\n",
    "# Access a database\n",
    "db = client[\"stock_forum\"]\n",
    "\n",
    "# Access a collection\n",
    "tbl_stock = db[\"tbl_stock\"]"
   ]
  },
  {
   "cell_type": "code",
   "execution_count": 7,
   "metadata": {},
   "outputs": [],
   "source": [
    "#query data from Finnhub but limit 30 APIs/second\n",
    "#https://finnhub.io/docs/api/stock-symbols\n",
    "def custom_query(get_url):\n",
    "    print(get_url)\n",
    "    try:\n",
    "        r = requests.get(get_url)\n",
    "        return r.json()\n",
    "    except Exception as e:\n",
    "       print(e)\n",
    "       return r"
   ]
  },
  {
   "cell_type": "code",
   "execution_count": null,
   "metadata": {},
   "outputs": [
    {
     "name": "stdout",
     "output_type": "stream",
     "text": [
      "https://finnhub.io/api/v1/stock/symbol?exchange=US&token=cu5b37pr01qqj8u65ufgcu5b37pr01qqj8u65ug0\n",
      "{'currency': 'USD', 'description': 'TERRACE ENERGY CORP', 'displaySymbol': 'TCRRF', 'figi': 'BBG000WCQW17', 'isin': None, 'mic': 'OOTC', 'shareClassFIGI': 'BBG001STBC13', 'symbol': 'TCRRF', 'symbol2': '', 'type': 'Common Stock'}\n"
     ]
    }
   ],
   "source": [
    "#1. Get all stock symbols\n",
    "stock_list_url = FINNHUB_URI + 'stock/symbol?exchange=US&token=' + FINNHUB_KEY\n",
    "\n",
    "#stock_list = custom_query(stock_list_url)\n",
    "#print(stock_list[0])"
   ]
  },
  {
   "cell_type": "code",
   "execution_count": 8,
   "metadata": {},
   "outputs": [
    {
     "name": "stdout",
     "output_type": "stream",
     "text": [
      "{'_id': ObjectId('678ab5f520c6690d5c97bd91'), 'currency': 'USD', 'description': 'SORTIS HOLDINGS INC', 'mic': 'OOTC', 'symbol': '111', 'type': 'Common Stock', 'about': 'long_text 111', 'wachers': 34567}\n"
     ]
    }
   ],
   "source": [
    "db_stocks = tbl_stock.find({})\n",
    "print(db_stocks[0])"
   ]
  },
  {
   "cell_type": "code",
   "execution_count": 22,
   "metadata": {},
   "outputs": [],
   "source": [
    "#2. save basic info to db -> 2 mins\n",
    "for stock in stock_list:\n",
    "    if stock['mic'].find('OTC') >= 0:    #this app is used for OTC market\n",
    "        #upsert to db\n",
    "        db_stock_detail = tbl_stock.find_one({'symbol': stock['symbol']})\n",
    "        if db_stock_detail is None:\n",
    "            #insert\n",
    "            tbl_stock.insert_one({\n",
    "                'symbol': stock['symbol'],\n",
    "                \"mic\" : stock['mic']\n",
    "            })\n",
    "        else:\n",
    "            #update\n",
    "            tbl_stock.update_one({'symbol': stock['symbol']}, {'$set':{\n",
    "                \"mic\" : stock['mic']\n",
    "            }})"
   ]
  },
  {
   "cell_type": "code",
   "execution_count": null,
   "metadata": {},
   "outputs": [
    {
     "name": "stdout",
     "output_type": "stream",
     "text": [
      "https://finnhub.io/api/v1/stock/profile2?symbol=GWSO&token=cu5b37pr01qqj8u65ufgcu5b37pr01qqj8u65ug0\n",
      "{'country': 'US', 'currency': 'USD', 'estimateCurrency': 'USD', 'exchange': 'OTC MARKETS', 'finnhubIndustry': 'Electrical Equipment', 'ipo': '2007-05-08', 'logo': 'https://static2.finnhub.io/file/publicdatany/finnhubimage/stock_logo/942965310296.png', 'marketCapitalization': 18.689048620689658, 'name': 'Global Warming Solutions Inc', 'phone': '16133631222', 'shareOutstanding': 16.39, 'ticker': 'GWSO', 'weburl': 'https://gwsogroup.com/'}\n"
     ]
    }
   ],
   "source": [
    "#3 query basic details of stocks\n",
    "stock_detail_url = FINNHUB_URI + 'stock/profile2?symbol='+sample_symbol+'&token=' + FINNHUB_KEY\n",
    "\n",
    "stock_detail = custom_query(stock_detail_url)\n",
    "print(stock_detail)\n",
    "#industry, ipo, logo, name, capitalization, weburl"
   ]
  },
  {
   "cell_type": "code",
   "execution_count": 27,
   "metadata": {},
   "outputs": [
    {
     "name": "stdout",
     "output_type": "stream",
     "text": [
      "https://finnhub.io/api/v1/company-news?&from=2023-08-15&to=2024-08-20&symbol=GWSO&token=cu5b37pr01qqj8u65ufgcu5b37pr01qqj8u65ug0\n",
      "[{'category': 'company', 'datetime': 1721237700, 'headline': 'Global Warming Solutions Inc. Provides Update on OTC Market Status Change and Reaffirms Commitment to Compliance and Innovation', 'id': 128736230, 'image': 'https://s.yimg.com/cv/apiv2/social/images/yahoo_default_logo-1200x1200.png', 'related': 'GWSO', 'source': 'Yahoo', 'summary': \"Temecula, CA , July 17, 2024 (GLOBE NEWSWIRE) -- Global Warming Solutions Inc. (OTCQB: GWSO), a leader in developing innovative technologies to combat climate change, today addressed the recent change in its market status to the OTC Expert Market. This temporary change follows a delay in the filing of the company's Form 10-Q. GWSO is taking immediate and comprehensive steps to rectify the situation and ensure full compliance with regulatory requirements. Global Warming Solutions Inc. experienced\", 'url': 'https://finnhub.io/api/news?id=5179428cbf9ebd578a6f312eac161c45be8c94b42570c729b15fbaf505e8eb00'}, {'category': 'company', 'datetime': 1716890400, 'headline': 'Global Warming Solutions Inc. Granted Permit to Revolutionize Hydrogen Production in Kansas', 'id': 127939602, 'image': 'https://s.yimg.com/cv/apiv2/social/images/yahoo_default_logo-1200x1200.png', 'related': 'GWSO', 'source': 'Yahoo', 'summary': \"Temecula, CA , May 28, 2024 (GLOBE NEWSWIRE) -- Global Warming Solutions Inc. (OTCQB: $GWSO), a leader in renewable hydrogen solutions, has been granted a permit to begin drilling for hydrogen in Kansas. This significant milestone marks a new chapter in regional hydrogen production and distribution, aiming to foster clean energy and economic growth. The permit allows GWSO to explore Kansas' rich underground hydrogen deposits, particularly along the Nemaha Uplift and Humboldt Fault. These formati\", 'url': 'https://finnhub.io/api/news?id=f2e2663fa36e0a6fde822d86b671d945525fc52f6556e2d3ea16e9ca70d71a16'}, {'category': 'company', 'datetime': 1712570400, 'headline': 'Global Warming Solutions Inc. Receives Engine from US Navy to Officially Begin Integration of GWSO’s TPN Technology in Partnership with the University of Southern Mississippi', 'id': 126897586, 'image': '', 'related': 'GWSO', 'source': 'Yahoo', 'summary': 'Temecula, CA, April 08, 2024 (GLOBE NEWSWIRE) -- Global Warming Solutions Inc. (OTCQB: GWSO), a leader in renewable energy storage and on-demand technologies, proudly announces significant development milestones for the TrinityPower Nexus (TPN) system. This initiative, centered at the Roger F. Wicker Center for Ocean Enterprise at the University of Southern Mississippi (USM) in collaboration with the US Navy, has reached new heights in hydrogen production technology. The TPN system, designed to', 'url': 'https://finnhub.io/api/news?id=743cf2ba3a70ec1c6e3aba0dbdf24943af26f62c10ef634062e9d23ce3de97c9'}, {'category': 'company', 'datetime': 1710237600, 'headline': \"After Successful Testing, GWSO's TrinityPower Nexus Gears Up for US Navy Renewable Energy Contract\", 'id': 126449526, 'image': 'https://s.yimg.com/cv/apiv2/social/images/yahoo_default_logo-1200x1200.png', 'related': 'GWSO', 'source': 'Yahoo', 'summary': 'Madison, MS, March 12, 2024 (GLOBE NEWSWIRE) -- In a groundbreaking achievement, Global Warming Solutions Inc. (OTCQB: GWSO), a trailblazer in renewable energy storage and on-demand technologies, has successfully completed a critical milestone in the development of the game-changing TrinityPower Nexus (TPN) system. This cutting-edge solution, born from a collaboration with the esteemed Roger F. Wicker Center for Ocean Enterprise at the University of Southern Mississippi and the US NAVY, is poise', 'url': 'https://finnhub.io/api/news?id=b584a04842c6536871814d36f06c9d7a10b9d590558fbd7202c23851dfaf57a1'}, {'category': 'company', 'datetime': 1706698800, 'headline': 'AQST USA, a Division of GWSO Inc., Announces Progress in Pioneering a Maritime US NAVY Program with the University of Southern Mississippi and the Roger F. Wicker for Ocean Enterprise', 'id': 125433325, 'image': 'https://s.yimg.com/cv/apiv2/social/images/yahoo_default_logo-1200x1200.png', 'related': 'GWSO', 'source': 'Yahoo', 'summary': 'TEMECULA, California, Jan. 31, 2024 (GLOBE NEWSWIRE) -- Global Warming Solutions Inc. (OTCQB: GWSO), a developer of renewable energy storage technologies, and AQST-USA, a division of GWSO, today announced significant advancements in its collaborative project with the University of Southern Mississippi, and the Roger F Wicker for Ocean Enterprise Research Center. This program, focusing on a crucial maritime initiative, stands as a testament to our relentless pursuit of innovation and excellence i', 'url': 'https://finnhub.io/api/news?id=9f67c6bcc5390a38a9e078da78d3fd3a8addc09f377a93c1dd21fc51c6051c5b'}, {'category': 'company', 'datetime': 1706612400, 'headline': 'Global Warming Solutions Announces Plan to Revolutionize Hydrogen Production and Distribution in Kansas', 'id': 125398817, 'image': 'https://s.yimg.com/cv/apiv2/social/images/yahoo_default_logo-1200x1200.png', 'related': 'GWSO', 'source': 'Yahoo', 'summary': \"Temecula, CA, Jan. 30, 2024 (GLOBE NEWSWIRE) -- Global Warming Solutions Inc. (OTCQB: $GWSO), a world leader in renewable hydrogen solutions, announced today its vision to revolutionize hydrogen production and delivery in the state of Kansas through a new partnership with Coal Creek Energy. Under a signed Letter of Intent (LOI), GWSO will collaborate with Coal Creek Energy and Dr. Reza, a leading academic to tap into Kansas' vast underground hydrogen deposits along the Nemaha Uplift and Humboldt\", 'url': 'https://finnhub.io/api/news?id=664070e027fd1d61a29beb2fd8596a6aeb372663452e1c30e3486abb9c4a6ff0'}]\n"
     ]
    }
   ],
   "source": [
    "news_url = FINNHUB_URI + 'company-news?&from=2023-08-15&to=2024-08-20&symbol='+sample_symbol+'&token=' + FINNHUB_KEY\n",
    "\n",
    "news = custom_query(news_url)\n",
    "print(news)"
   ]
  },
  {
   "cell_type": "code",
   "execution_count": null,
   "metadata": {},
   "outputs": [
    {
     "name": "stdout",
     "output_type": "stream",
     "text": [
      "https://finnhub.io/api/v1/stock/peers?&from=2023-08-15&to=2024-08-20&symbol=GWSO&token=cu5b37pr01qqj8u65ufgcu5b37pr01qqj8u65ug0\n",
      "['FLUX', 'OESX', 'SVT', 'DFLI', 'ADN', 'GWSO', 'ORBT', 'WATT', 'AURM', 'HLGN', '3665.TW']\n"
     ]
    }
   ],
   "source": [
    "#similar companies\n",
    "news_url = FINNHUB_URI + 'stock/peers?&from=2023-08-15&to=2024-08-20&symbol='+sample_symbol+'&token=' + FINNHUB_KEY\n",
    "\n",
    "news = custom_query(news_url)\n",
    "print(news)"
   ]
  },
  {
   "cell_type": "code",
   "execution_count": 29,
   "metadata": {},
   "outputs": [
    {
     "name": "stdout",
     "output_type": "stream",
     "text": [
      "https://finnhub.io/api/v1/stock/metric?&from=2023-08-15&to=2024-08-20&symbol=GWSO&token=cu5b37pr01qqj8u65ufgcu5b37pr01qqj8u65ug0\n",
      "{'metric': {'10DayAverageTradingVolume': 0.01044, '13WeekPriceReturnDaily': 17.2864, '26WeekPriceReturnDaily': -68.5433, '3MonthADReturnStd': 188.10765, '3MonthAverageTradingVolume': 0.01772, '52WeekHigh': 6.14, '52WeekHighDate': '2024-02-13', '52WeekLow': 0.055, '52WeekLowDate': '2024-07-18', '52WeekPriceReturnDaily': -57.0732, '5DayPriceReturnDaily': -26.6667, 'assetTurnoverAnnual': 0.101, 'assetTurnoverTTM': None, 'beta': 2.716919, 'bookValuePerShareAnnual': 0.0551, 'bookValuePerShareQuarterly': 0.0181, 'cashFlowPerShareAnnual': -0.0359, 'cashFlowPerShareQuarterly': -0.0317, 'cashFlowPerShareTTM': -0.06595, 'cashPerSharePerShareAnnual': 0.0019, 'cashPerSharePerShareQuarterly': 0.0001, 'currentDividendYieldTTM': None, 'currentRatioAnnual': 0.5937, 'currentRatioQuarterly': 0.0028, 'dividendPerShareTTM': None, 'ebitdPerShareAnnual': -0.0255, 'ebitdPerShareTTM': -0.0235, 'enterpriseValue': 19.1635, 'epsAnnual': -0.0319, 'epsBasicExclExtraItemsAnnual': -0.0319, 'epsBasicExclExtraItemsTTM': -0.0312, 'epsExclExtraItemsAnnual': -0.0319, 'epsExclExtraItemsTTM': -0.0312, 'epsGrowth3Y': None, 'epsGrowthQuarterlyYoy': None, 'epsGrowthTTMYoy': None, 'epsInclExtraItemsAnnual': -0.0319, 'epsInclExtraItemsTTM': -0.0312, 'epsNormalizedAnnual': -0.0319, 'epsTTM': -0.0312, 'grossMarginAnnual': 30, 'grossMarginTTM': 28, 'marketCapitalization': 18.689049, 'monthToDatePriceReturnDaily': -20, 'netInterestCoverageAnnual': -3.4712, 'netInterestCoverageTTM': -4.8415, 'netProfitMarginAnnual': -600, 'netProfitMarginTTM': -420, 'operatingMarginAnnual': -440, 'operatingMarginTTM': -336, 'pbAnnual': 157.9278, 'pbQuarterly': 360.2873, 'pcfShareAnnual': None, 'pcfShareTTM': None, 'peAnnual': None, 'peBasicExclExtraTTM': None, 'peExclExtraTTM': None, 'peInclExtraTTM': None, 'peNormalizedAnnual': None, 'peTTM': None, 'pfcfShareAnnual': 1868.9049, 'pretaxMarginAnnual': -600, 'pretaxMarginTTM': -420, 'priceRelativeToS&P50013Week': 15.0089, 'priceRelativeToS&P50026Week': -75.0664, 'priceRelativeToS&P5004Week': -42.6911, 'priceRelativeToS&P50052Week': -81.8874, 'priceRelativeToS&P500Ytd': -21.1432, 'psAnnual': 186.8905, 'psTTM': 74.7562, 'ptbvAnnual': 159.5729, 'ptbvQuarterly': 373.1548, 'quickRatioAnnual': 0.5937, 'quickRatioQuarterly': 0.0028, 'revenueGrowth3Y': None, 'revenueGrowthQuarterlyYoy': None, 'revenueGrowthTTMYoy': None, 'revenuePerShareAnnual': 0, 'revenuePerShareTTM': 0, 'roa5Y': -368.87, 'roaRfy': -217.32, 'roaTTM': -322.84999999999997, 'roeRfy': -61.86000000000001, 'roeTTM': -145.32, 'roiAnnual': -61.86000000000001, 'roiTTM': -145.32, 'tangibleBookValuePerShareAnnual': 0.0545, 'tangibleBookValuePerShareQuarterly': 0.0175, 'totalDebt/totalEquityAnnual': 0, 'totalDebt/totalEquityQuarterly': 0, 'yearToDatePriceReturnDaily': -20}, 'metricType': 'all', 'series': {'annual': {'bookValue': [{'period': '2021-12-31', 'v': 0.97}, {'period': '2020-12-31', 'v': 0.05}], 'cashRatio': [{'period': '2023-12-31', 'v': 0.0810711249645792}, {'period': '2022-12-31', 'v': 0}, {'period': '2021-12-31', 'v': 42}, {'period': '2020-12-31', 'v': 0.33333333333333337}, {'period': '2019-12-31', 'v': 0.017857142857142856}], 'currentRatio': [{'period': '2023-12-31', 'v': 0.5937}, {'period': '2022-12-31', 'v': 0.3953}, {'period': '2021-12-31', 'v': 42.5}, {'period': '2020-12-31', 'v': 0.3333}, {'period': '2019-12-31', 'v': 0.0179}], 'ebitPerShare': [{'period': '2023-12-31', 'v': -0.0265}, {'period': '2022-12-31', 'v': -0.0775}, {'period': '2021-12-31', 'v': -0.0188}, {'period': '2020-12-31', 'v': -0.0349}, {'period': '2019-12-31', 'v': 0}], 'eps': [{'period': '2023-12-31', 'v': -0.0319}, {'period': '2022-12-31', 'v': -0.08}, {'period': '2021-12-31', 'v': -0.0256}, {'period': '2020-12-31', 'v': -0.0366}, {'period': '2019-12-31', 'v': -0.001}], 'ev': [{'period': '2023-12-31', 'v': 25.3958}, {'period': '2022-12-31', 'v': 52.2212}, {'period': '2021-12-31', 'v': 152.35}, {'period': '2020-12-31', 'v': 41.7252}, {'period': '2019-12-31', 'v': 0.1745}], 'fcfMargin': [{'period': '2019-12-31', 'v': 0.1667}], 'grossMargin': [{'period': '2021-12-31', 'v': 0.3}, {'period': '2020-12-31', 'v': 0.2778}, {'period': '2019-12-31', 'v': 0.1667}], 'inventoryTurnover': [], 'longtermDebtTotalAsset': [], 'longtermDebtTotalCapital': [], 'longtermDebtTotalEquity': [], 'netDebtToTotalCapital': [{'period': '2023-12-31', 'v': 1.4565}, {'period': '2022-12-31', 'v': 1.875}, {'period': '2021-12-31', 'v': -0.866}, {'period': '2020-12-31', 'v': -0.2}], 'netDebtToTotalEquity': [{'period': '2021-12-31', 'v': -0.866}, {'period': '2020-12-31', 'v': -0.2}], 'netMargin': [{'period': '2021-12-31', 'v': -6}, {'period': '2020-12-31', 'v': -4.9444}, {'period': '2019-12-31', 'v': -0.5}], 'operatingMargin': [{'period': '2021-12-31', 'v': -4.4}, {'period': '2020-12-31', 'v': -4.7222}, {'period': '2019-12-31', 'v': 0}], 'payoutRatio': [], 'pb': [{'period': '2021-12-31', 'v': 157.9278}, {'period': '2020-12-31', 'v': 834.704}], 'pe': [{'period': '2023-12-31', 'v': None}, {'period': '2022-12-31', 'v': None}, {'period': '2021-12-31', 'v': None}, {'period': '2020-12-31', 'v': None}, {'period': '2019-12-31', 'v': None}], 'pfcf': [{'period': '2019-12-31', 'v': 18.4455}], 'pretaxMargin': [{'period': '2021-12-31', 'v': -6}, {'period': '2020-12-31', 'v': -4.9444}, {'period': '2019-12-31', 'v': -0.5}], 'ps': [{'period': '2021-12-31', 'v': 1531.9}, {'period': '2020-12-31', 'v': 231.8622}, {'period': '2019-12-31', 'v': 3.0743}], 'ptbv': [{'period': '2021-12-31', 'v': 159.5729}], 'quickRatio': [{'period': '2023-12-31', 'v': 0.5937}, {'period': '2022-12-31', 'v': 0.3953}, {'period': '2021-12-31', 'v': 42}, {'period': '2020-12-31', 'v': 0.3333}, {'period': '2019-12-31', 'v': 0.0179}], 'receivablesTurnover': [], 'roa': [{'period': '2023-12-31', 'v': -2.1732}, {'period': '2022-12-31', 'v': -4.2667}, {'period': '2021-12-31', 'v': -0.6061}, {'period': '2020-12-31', 'v': -11.125}, {'period': '2019-12-31', 'v': -0.2727}], 'roe': [{'period': '2021-12-31', 'v': -0.6186}, {'period': '2020-12-31', 'v': -17.8}], 'roic': [{'period': '2021-12-31', 'v': -0.6186}, {'period': '2020-12-31', 'v': -17.8}], 'rotc': [{'period': '2021-12-31', 'v': -0.4536}, {'period': '2020-12-31', 'v': -17}], 'salesPerShare': [{'period': '2023-12-31', 'v': 0}, {'period': '2022-12-31', 'v': 0}, {'period': '2021-12-31', 'v': 0.0043}, {'period': '2020-12-31', 'v': 0.0074}, {'period': '2019-12-31', 'v': 0.002}], 'sgaToSale': [{'period': '2021-12-31', 'v': 0.7}, {'period': '2020-12-31', 'v': 0.7222}, {'period': '2019-12-31', 'v': 0.8333}], 'tangibleBookValue': [{'period': '2021-12-31', 'v': 0.96}], 'totalDebtToEquity': [{'period': '2021-12-31', 'v': 0}, {'period': '2020-12-31', 'v': 0}], 'totalDebtToTotalAsset': [{'period': '2023-12-31', 'v': 1.2852}, {'period': '2022-12-31', 'v': 1}, {'period': '2021-12-31', 'v': 0}, {'period': '2020-12-31', 'v': 0}, {'period': '2019-12-31', 'v': 0}], 'totalDebtToTotalCapital': [{'period': '2023-12-31', 'v': 1.6071}, {'period': '2022-12-31', 'v': 1.875}, {'period': '2021-12-31', 'v': 0}, {'period': '2020-12-31', 'v': 0}], 'totalRatio': [{'period': '2023-12-31', 'v': 0.6732}, {'period': '2022-12-31', 'v': 0.6977}, {'period': '2021-12-31', 'v': 49.5}, {'period': '2020-12-31', 'v': 2.6667}, {'period': '2019-12-31', 'v': 0.1964}]}, 'quarterly': {'assetTurnoverTTM': [], 'bookValue': [{'period': '2022-09-30', 'v': 0.29}, {'period': '2022-06-30', 'v': 0.56}, {'period': '2022-03-31', 'v': 0.84}, {'period': '2021-12-31', 'v': 0.97}, {'period': '2021-09-30', 'v': 0.82}, {'period': '2021-06-30', 'v': 0.99}, {'period': '2021-03-31', 'v': 1.03}], 'cashRatio': [{'period': '2024-09-30', 'v': 0}, {'period': '2024-06-30', 'v': 0.005738964651868568}, {'period': '2024-03-31', 'v': 0}, {'period': '2023-12-31', 'v': 0.0810711249645792}, {'period': '2023-09-30', 'v': 0.2032018105255347}, {'period': '2023-06-30', 'v': 0}, {'period': '2023-03-31', 'v': 0.03773584905660377}, {'period': '2022-12-31', 'v': 0}, {'period': '2022-09-30', 'v': 5}, {'period': '2022-06-30', 'v': 19}, {'period': '2022-03-31', 'v': 33}, {'period': '2021-12-31', 'v': 42}, {'period': '2021-09-30', 'v': 22.666666666666668}, {'period': '2021-06-30', 'v': 41}, {'period': '2021-03-31', 'v': 90}], 'currentRatio': [{'period': '2024-09-30', 'v': 0.0028}, {'period': '2024-06-30', 'v': 0.0628}, {'period': '2024-03-31', 'v': 0.6929}, {'period': '2023-12-31', 'v': 0.5937}, {'period': '2023-09-30', 'v': 0.4348}, {'period': '2023-06-30', 'v': 0.1333}, {'period': '2023-03-31', 'v': 0.2075}, {'period': '2022-12-31', 'v': 0.3953}, {'period': '2022-09-30', 'v': 18}, {'period': '2022-06-30', 'v': 22}, {'period': '2022-03-31', 'v': 36}, {'period': '2021-12-31', 'v': 42.5}, {'period': '2021-09-30', 'v': 23.6667}, {'period': '2021-06-30', 'v': 43}, {'period': '2021-03-31', 'v': 95}], 'ebitPerShare': [{'period': '2024-09-30', 'v': -0.002}, {'period': '2024-06-30', 'v': -0.0045}, {'period': '2024-03-31', 'v': -0.0044}, {'period': '2023-12-31', 'v': 0.004}, {'period': '2023-09-30', 'v': -0.0074}, {'period': '2023-06-30', 'v': -0.0069}, {'period': '2023-03-31', 'v': -0.0162}, {'period': '2022-12-31', 'v': -0.0225}, {'period': '2022-09-30', 'v': -0.0212}, {'period': '2022-06-30', 'v': -0.0156}, {'period': '2022-03-31', 'v': -0.012}, {'period': '2021-12-31', 'v': -0.0053}, {'period': '2021-09-30', 'v': -0.0075}, {'period': '2021-06-30', 'v': -0.0067}, {'period': '2021-03-31', 'v': 0}, {'period': '2020-12-31', 'v': -0.0329}, {'period': '2020-09-30', 'v': -0.0006}, {'period': '2020-06-30', 'v': -0.0008}, {'period': '2020-03-31', 'v': -0.0004}], 'eps': [{'period': '2024-09-30', 'v': -0.0029}, {'period': '2024-06-30', 'v': -0.0226}, {'period': '2024-03-31', 'v': -0.0048}, {'period': '2023-12-31', 'v': -0.0009}, {'period': '2023-09-30', 'v': -0.0077}, {'period': '2023-06-30', 'v': -0.0075}, {'period': '2023-03-31', 'v': -0.0162}, {'period': '2022-12-31', 'v': -0.0268}, {'period': '2022-09-30', 'v': -0.0162}, {'period': '2022-06-30', 'v': -0.0181}, {'period': '2022-03-31', 'v': -0.0124}, {'period': '2021-12-31', 'v': -0.0053}, {'period': '2021-09-30', 'v': -0.0075}, {'period': '2021-06-30', 'v': -0.0067}, {'period': '2021-03-31', 'v': -0.0069}, {'period': '2020-12-31', 'v': -0.0345}, {'period': '2020-09-30', 'v': -0.0006}, {'period': '2020-06-30', 'v': -0.0008}, {'period': '2020-03-31', 'v': -0.0004}], 'ev': [{'period': '2024-09-30', 'v': 12.7732}, {'period': '2024-06-30', 'v': 35.8854}, {'period': '2024-03-31', 'v': 48.4711}, {'period': '2023-12-31', 'v': 25.3958}, {'period': '2023-09-30', 'v': 42.4559}, {'period': '2023-06-30', 'v': 29.7776}, {'period': '2023-03-31', 'v': 48.2749}, {'period': '2022-12-31', 'v': 52.2212}, {'period': '2022-09-30', 'v': 104.4333}, {'period': '2022-06-30', 'v': 42.7091}, {'period': '2022-03-31', 'v': 90.0042}, {'period': '2021-12-31', 'v': 152.35}, {'period': '2021-09-30', 'v': 126.701}, {'period': '2021-06-30', 'v': 58.9216}, {'period': '2021-03-31', 'v': 71.1328}], 'fcfMargin': [{'period': '2020-09-30', 'v': 0.2}, {'period': '2020-03-31', 'v': 0.3333}], 'fcfPerShareTTM': [{'period': '2024-09-30', 'v': -0.0317}, {'period': '2024-06-30', 'v': -0.0399}, {'period': '2024-03-31', 'v': -0.0374}, {'period': '2023-12-31', 'v': -0.0359}, {'period': '2023-09-30', 'v': -0.0441}, {'period': '2023-06-30', 'v': -0.0555}, {'period': '2023-03-31', 'v': -0.0704}, {'period': '2022-12-31', 'v': -0.0817}, {'period': '2022-09-30', 'v': -0.0674}, {'period': '2022-06-30', 'v': -0.0549}, {'period': '2022-03-31', 'v': -0.0581}, {'period': '2021-12-31', 'v': -0.0381}], 'grossMargin': [{'period': '2021-03-31', 'v': 0.3}, {'period': '2020-12-31', 'v': 0.3333}, {'period': '2020-09-30', 'v': 0.2}, {'period': '2020-06-30', 'v': 0.25}, {'period': '2020-03-31', 'v': 0.3333}], 'inventoryTurnoverTTM': [], 'longtermDebtTotalAsset': [], 'longtermDebtTotalCapital': [], 'longtermDebtTotalEquity': [], 'netDebtToTotalCapital': [{'period': '2024-06-30', 'v': 278.4121}, {'period': '2024-03-31', 'v': 1.3954}, {'period': '2023-12-31', 'v': 1.4565}, {'period': '2023-09-30', 'v': 1.6561}, {'period': '2023-03-31', 'v': 4.5}, {'period': '2022-12-31', 'v': 1.875}, {'period': '2022-09-30', 'v': -0.1667}, {'period': '2022-06-30', 'v': -0.6786}, {'period': '2022-03-31', 'v': -0.7857}, {'period': '2021-12-31', 'v': -0.866}, {'period': '2021-09-30', 'v': -0.8293}, {'period': '2021-06-30', 'v': -0.8367}, {'period': '2021-03-31', 'v': -0.8738}], 'netDebtToTotalEquity': [{'period': '2022-09-30', 'v': -0.1667}, {'period': '2022-06-30', 'v': -0.6786}, {'period': '2022-03-31', 'v': -0.7857}, {'period': '2021-12-31', 'v': -0.866}, {'period': '2021-09-30', 'v': -0.8293}, {'period': '2021-06-30', 'v': -0.8367}, {'period': '2021-03-31', 'v': -0.8738}], 'netMargin': [{'period': '2021-03-31', 'v': -1.7}, {'period': '2020-12-31', 'v': -14}, {'period': '2020-09-30', 'v': -0.4}, {'period': '2020-06-30', 'v': -0.5}, {'period': '2020-03-31', 'v': -0.3333}], 'operatingMargin': [{'period': '2021-03-31', 'v': 0}, {'period': '2020-12-31', 'v': -13.3333}, {'period': '2020-09-30', 'v': -0.4}, {'period': '2020-06-30', 'v': -0.5}, {'period': '2020-03-31', 'v': -0.3333}], 'payoutRatioTTM': [], 'pb': [{'period': '2022-09-30', 'v': 360.2873}, {'period': '2022-06-30', 'v': 76.9448}, {'period': '2022-03-31', 'v': 107.9336}, {'period': '2021-12-31', 'v': 157.9278}, {'period': '2021-09-30', 'v': 155.3427}, {'period': '2021-06-30', 'v': 60.3451}, {'period': '2021-03-31', 'v': 69.9348}], 'peTTM': [], 'pfcfTTM': [], 'pretaxMargin': [{'period': '2021-03-31', 'v': -1.7}, {'period': '2020-12-31', 'v': -14}, {'period': '2020-09-30', 'v': -0.4}, {'period': '2020-06-30', 'v': -0.5}, {'period': '2020-03-31', 'v': -0.3333}], 'psTTM': [{'period': '2021-03-31', 'v': 288.1312}, {'period': '2020-12-31', 'v': 231.8622}], 'ptbv': [{'period': '2022-09-30', 'v': 373.1548}, {'period': '2022-06-30', 'v': 78.3438}, {'period': '2022-03-31', 'v': 109.234}, {'period': '2021-12-31', 'v': 159.5729}, {'period': '2021-09-30', 'v': 157.2605}, {'period': '2021-06-30', 'v': 60.9608}, {'period': '2021-03-31', 'v': 74.2606}], 'quickRatio': [{'period': '2024-09-30', 'v': 0.0028}, {'period': '2024-06-30', 'v': 0.0628}, {'period': '2024-03-31', 'v': 0.6929}, {'period': '2023-12-31', 'v': 0.5937}, {'period': '2023-09-30', 'v': 0.4348}, {'period': '2023-06-30', 'v': 0.1333}, {'period': '2023-03-31', 'v': 0.2075}, {'period': '2022-12-31', 'v': 0.3953}, {'period': '2022-09-30', 'v': 18}, {'period': '2022-06-30', 'v': 22}, {'period': '2022-03-31', 'v': 36}, {'period': '2021-12-31', 'v': 42}, {'period': '2021-09-30', 'v': 23}, {'period': '2021-06-30', 'v': 41}, {'period': '2021-03-31', 'v': 90}], 'receivablesTurnoverTTM': [], 'roaTTM': [{'period': '2024-09-30', 'v': -3.2285}, {'period': '2024-06-30', 'v': -2.4762}, {'period': '2024-03-31', 'v': -1.2425}, {'period': '2023-12-31', 'v': -2.0907}, {'period': '2023-09-30', 'v': -3.5359}, {'period': '2023-06-30', 'v': -4.1961}, {'period': '2023-03-31', 'v': -3.5177}, {'period': '2022-12-31', 'v': -2.4902}, {'period': '2022-09-30', 'v': -1.4212}, {'period': '2022-06-30', 'v': -1.0488}, {'period': '2022-03-31', 'v': -0.7871}, {'period': '2021-12-31', 'v': -0.6272}], 'roeTTM': [{'period': '2022-09-30', 'v': -1.4532}, {'period': '2022-06-30', 'v': -1.0784}, {'period': '2022-03-31', 'v': -0.8089}, {'period': '2021-12-31', 'v': -0.6421}], 'roicTTM': [{'period': '2022-09-30', 'v': -1.4532}, {'period': '2022-06-30', 'v': -1.0784}, {'period': '2022-03-31', 'v': -0.8089}, {'period': '2021-12-31', 'v': -0.6421}], 'rotcTTM': [{'period': '2022-09-30', 'v': -1.4981}, {'period': '2022-06-30', 'v': -1.0157}, {'period': '2022-03-31', 'v': -0.7978}, {'period': '2021-12-31', 'v': -0.4632}], 'salesPerShare': [{'period': '2024-09-30', 'v': 0}, {'period': '2024-06-30', 'v': 0}, {'period': '2024-03-31', 'v': 0}, {'period': '2023-12-31', 'v': 0}, {'period': '2023-09-30', 'v': 0}, {'period': '2023-06-30', 'v': 0}, {'period': '2023-03-31', 'v': 0}, {'period': '2022-12-31', 'v': 0}, {'period': '2022-09-30', 'v': 0}, {'period': '2022-06-30', 'v': 0}, {'period': '2022-03-31', 'v': 0}, {'period': '2021-12-31', 'v': 0}, {'period': '2021-09-30', 'v': 0}, {'period': '2021-06-30', 'v': 0}, {'period': '2021-03-31', 'v': 0.0041}, {'period': '2020-12-31', 'v': 0.0025}, {'period': '2020-09-30', 'v': 0.0015}, {'period': '2020-06-30', 'v': 0.0015}, {'period': '2020-03-31', 'v': 0.0011}], 'sgaToSale': [{'period': '2021-03-31', 'v': 0.7}, {'period': '2020-12-31', 'v': 0.6667}, {'period': '2020-09-30', 'v': 0.8}, {'period': '2020-06-30', 'v': 0.75}, {'period': '2020-03-31', 'v': 0.6667}], 'tangibleBookValue': [{'period': '2022-09-30', 'v': 0.28}, {'period': '2022-06-30', 'v': 0.55}, {'period': '2022-03-31', 'v': 0.83}, {'period': '2021-12-31', 'v': 0.96}, {'period': '2021-09-30', 'v': 0.81}, {'period': '2021-06-30', 'v': 0.98}, {'period': '2021-03-31', 'v': 0.97}], 'totalDebtToEquity': [{'period': '2022-09-30', 'v': 0}, {'period': '2022-06-30', 'v': 0}, {'period': '2022-03-31', 'v': 0}, {'period': '2021-12-31', 'v': 0}, {'period': '2021-09-30', 'v': 0}, {'period': '2021-06-30', 'v': 0}, {'period': '2021-03-31', 'v': 0}], 'totalDebtToTotalAsset': [{'period': '2024-09-30', 'v': 23.9269}, {'period': '2024-06-30', 'v': 8.666}, {'period': '2024-03-31', 'v': 1.1813}, {'period': '2023-12-31', 'v': 1.2852}, {'period': '2023-09-30', 'v': 1.0051}, {'period': '2023-06-30', 'v': 2.1053}, {'period': '2023-03-31', 'v': 1.6522}, {'period': '2022-12-31', 'v': 1}, {'period': '2022-09-30', 'v': 0}, {'period': '2022-06-30', 'v': 0}, {'period': '2022-03-31', 'v': 0}, {'period': '2021-12-31', 'v': 0}, {'period': '2021-09-30', 'v': 0}, {'period': '2021-06-30', 'v': 0}, {'period': '2021-03-31', 'v': 0}], 'totalDebtToTotalCapital': [{'period': '2024-06-30', 'v': 280.2}, {'period': '2024-03-31', 'v': 1.3954}, {'period': '2023-12-31', 'v': 1.6071}, {'period': '2023-09-30', 'v': 2.4434}, {'period': '2023-03-31', 'v': 4.75}, {'period': '2022-12-31', 'v': 1.875}, {'period': '2022-09-30', 'v': 0}, {'period': '2022-06-30', 'v': 0}, {'period': '2022-03-31', 'v': 0}, {'period': '2021-12-31', 'v': 0}, {'period': '2021-09-30', 'v': 0}, {'period': '2021-06-30', 'v': 0}, {'period': '2021-03-31', 'v': 0}], 'totalRatio': [{'period': '2024-09-30', 'v': 0.0385}, {'period': '2024-06-30', 'v': 0.1038}, {'period': '2024-03-31', 'v': 0.7492}, {'period': '2023-12-31', 'v': 0.6732}, {'period': '2023-09-30', 'v': 0.6275}, {'period': '2023-06-30', 'v': 0.3167}, {'period': '2023-03-31', 'v': 0.434}, {'period': '2022-12-31', 'v': 0.6977}, {'period': '2022-09-30', 'v': 30}, {'period': '2022-06-30', 'v': 29}, {'period': '2022-03-31', 'v': 43}, {'period': '2021-12-31', 'v': 49.5}, {'period': '2021-09-30', 'v': 28.3333}, {'period': '2021-06-30', 'v': 50.5}, {'period': '2021-03-31', 'v': 104}]}}, 'symbol': 'GWSO'}\n"
     ]
    }
   ],
   "source": [
    "#real time metric\n",
    "news_url = FINNHUB_URI + 'stock/metric?&from=2023-08-15&to=2024-08-20&symbol='+sample_symbol+'&token=' + FINNHUB_KEY\n",
    "\n",
    "news = custom_query(news_url)\n",
    "print(news)"
   ]
  },
  {
   "cell_type": "code",
   "execution_count": null,
   "metadata": {},
   "outputs": [
    {
     "name": "stdout",
     "output_type": "stream",
     "text": [
      "https://finnhub.io/api/v1/quote?&from=2023-08-15&to=2024-08-20&symbol=GWSO&token=cu5b37pr01qqj8u65ufgcu5b37pr01qqj8u65ug0\n",
      "{'c': 1.14, 'd': 0.27, 'dp': 31.0345, 'h': 1.25, 'l': 0.9, 'o': 1, 'pc': 0.87, 't': 1736985600}\n"
     ]
    }
   ],
   "source": [
    "#not every stock has recommendation\n",
    "#data -> do not polling data\n",
    "news_url = FINNHUB_URI + 'quote?&from=2023-08-15&to=2024-08-20&symbol='+sample_symbol+'&token=' + FINNHUB_KEY\n",
    "\n",
    "news = custom_query(news_url)\n",
    "print(news)"
   ]
  },
  {
   "cell_type": "markdown",
   "metadata": {},
   "source": [
    "curl \"GEMINI_API_KEY\" \\\n",
    "-H 'Content-Type: application/json' \\\n",
    "-X POST \\\n",
    "-d '{\n",
    "  \"contents\": [{\n",
    "    \"parts\":[{\"text\": \"Explain how AI works\"}]\n",
    "    }]\n",
    "   }'"
   ]
  },
  {
   "cell_type": "code",
   "execution_count": 33,
   "metadata": {},
   "outputs": [],
   "source": [
    "import re\n",
    "import json\n",
    "\n",
    "def extract_json(text_response):\n",
    "    # This pattern matches a string that starts with '{' and ends with '}'\n",
    "    pattern = r'\\{[^{}]*\\}'\n",
    "    matches = re.finditer(pattern, text_response)\n",
    "    json_objects = []\n",
    "    for match in matches:\n",
    "        json_str = match.group(0)\n",
    "        try:\n",
    "            # Validate if the extracted string is valid JSON\n",
    "            json_obj = json.loads(json_str)\n",
    "            json_objects.append(json_obj)\n",
    "        except json.JSONDecodeError:\n",
    "            # Extend the search for nested structures\n",
    "            extended_json_str = extend_search(text_response, match.span())\n",
    "            try:\n",
    "                json_obj = json.loads(extended_json_str)\n",
    "                json_objects.append(json_obj)\n",
    "            except json.JSONDecodeError:\n",
    "                # Handle cases where the extraction is not valid JSON\n",
    "                continue\n",
    "    if json_objects:\n",
    "        return json_objects\n",
    "    else:\n",
    "        return None  # Or handle this case as you prefer\n",
    "    \n",
    "def extend_search(text, span):\n",
    "    # Extend the search to try to capture nested structures\n",
    "    start, end = span\n",
    "    nest_count = 0\n",
    "    for i in range(start, len(text)):\n",
    "        if text[i] == '{':\n",
    "            nest_count += 1\n",
    "        elif text[i] == '}':\n",
    "            nest_count -= 1\n",
    "            if nest_count == 0:\n",
    "                return text[start:i+1]\n",
    "    return text[start:end]"
   ]
  },
  {
   "cell_type": "code",
   "execution_count": 31,
   "metadata": {},
   "outputs": [],
   "source": [
    "#Send a POST request\n",
    "def post_request_gemini(text_prompt):\n",
    "    gemini_url = 'https://generativelanguage.googleapis.com/v1beta/models/gemini-1.5-flash:generateContent?key='+GG_GEMINI_API\n",
    "    HEADER = {'Content-Type': 'application/json'}\n",
    "    json_data = {\n",
    "        \"contents\": [\n",
    "            { \"parts\": [\n",
    "                {\"text\": text_prompt + \" Please provide a response in a structured JSON format.\"}]\n",
    "            }\n",
    "        ]\n",
    "    }\n",
    "\n",
    "    try:\n",
    "        r = requests.post(gemini_url, headers=HEADER, json=json_data)\n",
    "        return r.json()\n",
    "    except Exception as e:\n",
    "       print(e)\n",
    "       return e"
   ]
  },
  {
   "cell_type": "code",
   "execution_count": 43,
   "metadata": {},
   "outputs": [],
   "source": [
    "#generate random posts for each stock\n",
    "fake_comments = post_request_gemini(\"Generate 50 random comments for this stock symbol \" + sample_symbol +\". Each setence should have 30 to 50 words length.\") #10 sec\n",
    "raw_comments = fake_comments['candidates'][0]['content']['parts'][0]['text']\n",
    "#extract json structure\n",
    "json_comments = extract_json(raw_comments)"
   ]
  },
  {
   "cell_type": "code",
   "execution_count": 45,
   "metadata": {},
   "outputs": [
    {
     "data": {
      "text/plain": [
       "\"The management team at GWSO appears highly competent and has a demonstrably strong track record in the industry.  However, the market's perception of their strategies and execution plays a significant role in influencing the stock price.\""
      ]
     },
     "execution_count": 45,
     "metadata": {},
     "output_type": "execute_result"
    }
   ],
   "source": [
    "sample_comment = json_comments[0]['comments'][5]\n",
    "sample_comment"
   ]
  },
  {
   "cell_type": "code",
   "execution_count": 46,
   "metadata": {},
   "outputs": [],
   "source": [
    "fake_replies = post_request_gemini(\"Generate 7 random replies for this comment: \" + sample_comment +\". Each reply should have 10 to 15 words length.\") #10 sec\n",
    "raw_replies = fake_replies['candidates'][0]['content']['parts'][0]['text']\n",
    "#extract json structure\n",
    "json_replies = extract_json(raw_replies)"
   ]
  },
  {
   "cell_type": "code",
   "execution_count": 55,
   "metadata": {},
   "outputs": [
    {
     "data": {
      "text/plain": [
       "[{'id': 1,\n",
       "  'reply': 'True, perception often trumps reality in the volatile stock market.'},\n",
       " {'id': 2,\n",
       "  'reply': 'Market sentiment is crucial; GWSO needs strong PR to shift perception.'},\n",
       " {'id': 3,\n",
       "  'reply': \"Competence isn't enough; successful execution and communication are key.\"},\n",
       " {'id': 4,\n",
       "  'reply': \"GWSO's stock price hinges on investor confidence and market trends.\"},\n",
       " {'id': 5,\n",
       "  'reply': 'Long-term success depends on aligning strategy with market expectations.'},\n",
       " {'id': 6,\n",
       "  'reply': 'Solid fundamentals are important, but market narrative matters even more.'},\n",
       " {'id': 7,\n",
       "  'reply': 'Effective investor relations can bridge the gap between competence and perception.'}]"
      ]
     },
     "execution_count": 55,
     "metadata": {},
     "output_type": "execute_result"
    }
   ],
   "source": [
    "sample_reply = json_replies\n",
    "sample_reply"
   ]
  },
  {
   "cell_type": "code",
   "execution_count": null,
   "metadata": {},
   "outputs": [],
   "source": [
    "#save comment"
   ]
  },
  {
   "cell_type": "code",
   "execution_count": 57,
   "metadata": {},
   "outputs": [],
   "source": [
    "#todo generate random users\n",
    "#avatar: https://i.pravatar.cc/150?u=martinkeith\n",
    "fake_names = post_request_gemini(\"Generate 200 random people names.\") #10 sec\n",
    "raw_names = fake_names['candidates'][0]['content']['parts'][0]['text']\n",
    "#extract json structure\n",
    "json_names = extract_json(raw_names)"
   ]
  },
  {
   "cell_type": "code",
   "execution_count": 62,
   "metadata": {},
   "outputs": [],
   "source": [
    "name_list = json_names[0]['people']\n",
    "#save name to db\n",
    "tbl_user = db['tbl_user']\n",
    "for name in name_list:\n",
    "    key = name.lower().replace(' ', '')\n",
    "    #upsert to db\n",
    "    db_user_detail = tbl_user.find_one({'key': key})\n",
    "    if db_user_detail is None:\n",
    "        #insert\n",
    "        tbl_user.insert_one({\n",
    "            'name': name,\n",
    "            'key': key\n",
    "        })\n",
    "       "
   ]
  },
  {
   "cell_type": "code",
   "execution_count": null,
   "metadata": {},
   "outputs": [],
   "source": []
  }
 ],
 "metadata": {
  "kernelspec": {
   "display_name": "Python 3",
   "language": "python",
   "name": "python3"
  },
  "language_info": {
   "codemirror_mode": {
    "name": "ipython",
    "version": 3
   },
   "file_extension": ".py",
   "mimetype": "text/x-python",
   "name": "python",
   "nbconvert_exporter": "python",
   "pygments_lexer": "ipython3",
   "version": "3.13.1"
  }
 },
 "nbformat": 4,
 "nbformat_minor": 2
}
