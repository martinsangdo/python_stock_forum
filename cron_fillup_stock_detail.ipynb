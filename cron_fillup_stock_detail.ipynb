{
 "cells": [
  {
   "cell_type": "code",
   "execution_count": 36,
   "metadata": {},
   "outputs": [],
   "source": [
    "import requests\n",
    "import pymongo"
   ]
  },
  {
   "cell_type": "code",
   "execution_count": 37,
   "metadata": {},
   "outputs": [],
   "source": [
    "MAX_COMMENT = 15    #each stock should have max 20 comments\n",
    "MAX_REPLY = 5   #each comment should have max 6 comments\n",
    "MAX_LIKE = 50   #each comment or like should have max 50 likes\n",
    "MIN_COMMENT_TIMESTAMP = 1705571059  #sec (18 Jan 2024)"
   ]
  },
  {
   "cell_type": "code",
   "execution_count": 38,
   "metadata": {},
   "outputs": [],
   "source": [
    "from dotenv import load_dotenv\n",
    "load_dotenv() \n",
    "import os\n",
    "\n",
    "FINNHUB_KEY = os.environ['FINNHUB_KEY']\n",
    "FINNHUB_URI = os.environ['FINNHUB_URI']\n",
    "GG_GEMINI_API = os.environ['GG_GEMINI_API']"
   ]
  },
  {
   "cell_type": "markdown",
   "metadata": {},
   "source": [
    "1. Get 1 stock from db which there is no name\n",
    "2. Get basic detail of that stock\n",
    "3. Generate 10 - 20 random comments for that stock, with random like number\n",
    "4. Generate random 0 - 8 replies for each comment, with random like number\n",
    "5. Save comments and likes into db"
   ]
  },
  {
   "cell_type": "code",
   "execution_count": 39,
   "metadata": {},
   "outputs": [],
   "source": [
    "db_client = pymongo.MongoClient('mongodb://localhost:27017')\n",
    "collections = db_client['stock_forum']\n",
    "tbl_stock = collections['tbl_stock']\n",
    "tbl_user = collections['tbl_user']\n",
    "tbl_comment = collections['tbl_comment']\n",
    "tbl_reply = collections['tbl_reply']"
   ]
  },
  {
   "cell_type": "code",
   "execution_count": 40,
   "metadata": {},
   "outputs": [
    {
     "name": "stdout",
     "output_type": "stream",
     "text": [
      "symbol: BWNAF\n"
     ]
    }
   ],
   "source": [
    "db_stock = tbl_stock.find_one({'name': None})\n",
    "\n",
    "symbol = ''\n",
    "is_otc = False\n",
    "if db_stock is not None:\n",
    "    symbol = db_stock['symbol']\n",
    "    if 'is_otc' in db_stock:\n",
    "        is_otc = db_stock['is_otc']\n",
    "    print('symbol: ' + symbol)"
   ]
  },
  {
   "cell_type": "code",
   "execution_count": 41,
   "metadata": {},
   "outputs": [],
   "source": [
    "#query data from Finnhub but limit 30 APIs/second\n",
    "#https://finnhub.io/docs/api/stock-symbols\n",
    "def custom_query(get_url):\n",
    "    #print(get_url)\n",
    "    try:\n",
    "        r = requests.get(get_url)\n",
    "        return r.json()\n",
    "    except Exception as e:\n",
    "       print(e)\n",
    "       return r"
   ]
  },
  {
   "cell_type": "code",
   "execution_count": 42,
   "metadata": {},
   "outputs": [],
   "source": [
    "import random\n",
    "\n",
    "def get_random_like():\n",
    "    return random.randint(0, MAX_LIKE)"
   ]
  },
  {
   "cell_type": "code",
   "execution_count": 43,
   "metadata": {},
   "outputs": [],
   "source": [
    "def get_random_number(max_num):\n",
    "    return random.randint(1, max_num)"
   ]
  },
  {
   "cell_type": "code",
   "execution_count": 44,
   "metadata": {},
   "outputs": [],
   "source": [
    "import re\n",
    "import json\n",
    "\n",
    "def extract_json(text_response):\n",
    "    # This pattern matches a string that starts with '{' and ends with '}'\n",
    "    pattern = r'\\{[^{}]*\\}'\n",
    "    matches = re.finditer(pattern, text_response)\n",
    "    json_objects = []\n",
    "    for match in matches:\n",
    "        json_str = match.group(0)\n",
    "        try:\n",
    "            # Validate if the extracted string is valid JSON\n",
    "            json_obj = json.loads(json_str)\n",
    "            json_objects.append(json_obj)\n",
    "        except json.JSONDecodeError:\n",
    "            # Extend the search for nested structures\n",
    "            extended_json_str = extend_search(text_response, match.span())\n",
    "            try:\n",
    "                json_obj = json.loads(extended_json_str)\n",
    "                json_objects.append(json_obj)\n",
    "            except json.JSONDecodeError:\n",
    "                # Handle cases where the extraction is not valid JSON\n",
    "                continue\n",
    "    if json_objects:\n",
    "        return json_objects\n",
    "    else:\n",
    "        return None  # Or handle this case as you prefer\n",
    "    \n",
    "def extend_search(text, span):\n",
    "    # Extend the search to try to capture nested structures\n",
    "    start, end = span\n",
    "    nest_count = 0\n",
    "    for i in range(start, len(text)):\n",
    "        if text[i] == '{':\n",
    "            nest_count += 1\n",
    "        elif text[i] == '}':\n",
    "            nest_count -= 1\n",
    "            if nest_count == 0:\n",
    "                return text[start:i+1]\n",
    "    return text[start:end]"
   ]
  },
  {
   "cell_type": "code",
   "execution_count": 45,
   "metadata": {},
   "outputs": [],
   "source": [
    "#Send a POST request\n",
    "def post_request_gemini(text_prompt):\n",
    "    gemini_url = 'https://generativelanguage.googleapis.com/v1beta/models/gemini-1.5-flash:generateContent?key='+GG_GEMINI_API\n",
    "    HEADER = {'Content-Type': 'application/json'}\n",
    "    json_data = {\n",
    "        \"contents\": [\n",
    "            { \"parts\": [\n",
    "                {\"text\": text_prompt + \" Please provide a response in a structured JSON format.\"}]\n",
    "            }\n",
    "        ]\n",
    "    }\n",
    "\n",
    "    try:\n",
    "        r = requests.post(gemini_url, headers=HEADER, json=json_data)\n",
    "        return r.json()\n",
    "    except Exception as e:\n",
    "       print(e)\n",
    "       return e"
   ]
  },
  {
   "cell_type": "code",
   "execution_count": 46,
   "metadata": {},
   "outputs": [],
   "source": [
    "def get_rand_comments():\n",
    "    comment_num = get_random_number(MAX_COMMENT)\n",
    "    #generate random posts for each stock\n",
    "    fake_comments = post_request_gemini('Generate '+str(comment_num)+' random comments for this stock symbol ' + symbol +\" natually as human saying. Each setence should have 30 to 50 words length.\") #10 sec\n",
    "    print(fake_comments)\n",
    "    raw_comments = fake_comments['candidates'][0]['content']['parts'][0]['text']\n",
    "    #extract json structure\n",
    "    json_comments = extract_json(raw_comments)\n",
    "    return json_comments"
   ]
  },
  {
   "cell_type": "code",
   "execution_count": 47,
   "metadata": {},
   "outputs": [],
   "source": [
    "def get_rand_relies(str_comment):\n",
    "    reply_num = get_random_number(MAX_REPLY)\n",
    "    reply_list = []\n",
    "    #generate random relies for the comment\n",
    "    fake_replies = post_request_gemini('Generate '+str(reply_num)+' random replies for the comment: ' + str_comment +' of this stock symbol '+symbol+' natually as human saying. Each reply should have 10 to 20 words length.') #10 sec\n",
    "    if 'candidates' in fake_replies:\n",
    "        raw_replies = fake_replies['candidates'][0]['content']['parts'][0]['text']\n",
    "        #extract json structure\n",
    "        json_replies = extract_json(raw_replies)\n",
    "        for reply in json_replies:\n",
    "            if 'text' in reply:\n",
    "                reply_list.append(reply['text'])\n",
    "    return reply_list"
   ]
  },
  {
   "cell_type": "code",
   "execution_count": 48,
   "metadata": {},
   "outputs": [],
   "source": [
    "import uuid\n",
    "def generate_random_uuid():\n",
    "    return str(uuid.uuid4())"
   ]
  },
  {
   "cell_type": "code",
   "execution_count": 49,
   "metadata": {},
   "outputs": [],
   "source": [
    "import random\n",
    "import time\n",
    "\n",
    "def get_random_timestamp(start_time):\n",
    "    current_time = int(time.time())\n",
    "    time_delta = current_time - start_time\n",
    "    random_offset = random.randint(0, time_delta)\n",
    "    random_timestamp = start_time + random_offset\n",
    "    return random_timestamp"
   ]
  },
  {
   "cell_type": "code",
   "execution_count": 50,
   "metadata": {},
   "outputs": [],
   "source": [
    "def insert_comment(str_comment):\n",
    "    #print(str_comment)\n",
    "    #get random user\n",
    "    random_name = tbl_user.aggregate([{\"$sample\": {\"size\": 1}}]).next()\n",
    "    username = random_name['usr']\n",
    "    #generate random ID\n",
    "    comment_uuid = generate_random_uuid()\n",
    "    #generate random likes\n",
    "    cmt_like = get_random_like()\n",
    "    #generate random timestamp\n",
    "    rand_time = get_random_timestamp(MIN_COMMENT_TIMESTAMP)\n",
    "    #insert this comment to db\n",
    "    comment_detail = {\n",
    "        'symbol': symbol,\n",
    "        'uuid': comment_uuid,\n",
    "        'usr': username,\n",
    "        'like': cmt_like,\n",
    "        'time': rand_time,\n",
    "        'text': str_comment.replace('  ', ' ')\n",
    "    }\n",
    "    tbl_comment.insert_one(comment_detail)\n",
    "    return comment_detail"
   ]
  },
  {
   "cell_type": "code",
   "execution_count": 51,
   "metadata": {},
   "outputs": [],
   "source": [
    "def insert_reply(str_reply, comment_detail):\n",
    "    #get random user\n",
    "    random_name = tbl_user.aggregate([{\"$sample\": {\"size\": 1}}]).next()\n",
    "    username = random_name['usr']\n",
    "    #generate random ID\n",
    "    reply_uuid = generate_random_uuid()\n",
    "    #generate random likes\n",
    "    reply_like = get_random_like()\n",
    "    #generate random timestamp\n",
    "    rand_time = get_random_timestamp(comment_detail['time'])\n",
    "    #insert this reply to db\n",
    "    reply_detail = {\n",
    "        'uuid': reply_uuid,\n",
    "        'cmt_uuid': comment_detail['uuid'],\n",
    "        'usr': username,\n",
    "        'like': reply_like,\n",
    "        'time': rand_time,\n",
    "        'text': str_reply.replace('  ', ' ')\n",
    "    }\n",
    "    tbl_reply.insert_one(reply_detail)\n",
    "    return reply_detail"
   ]
  },
  {
   "cell_type": "code",
   "execution_count": 52,
   "metadata": {},
   "outputs": [
    {
     "name": "stdout",
     "output_type": "stream",
     "text": [
      "{'error': {'code': 429, 'message': 'Resource has been exhausted (e.g. check quota).', 'status': 'RESOURCE_EXHAUSTED'}}\n"
     ]
    },
    {
     "ename": "KeyError",
     "evalue": "'candidates'",
     "output_type": "error",
     "traceback": [
      "\u001b[0;31m---------------------------------------------------------------------------\u001b[0m",
      "\u001b[0;31mKeyError\u001b[0m                                  Traceback (most recent call last)",
      "Cell \u001b[0;32mIn[52], line 9\u001b[0m\n\u001b[1;32m      6\u001b[0m \u001b[38;5;28;01mif\u001b[39;00m stock_detail \u001b[38;5;129;01mis\u001b[39;00m \u001b[38;5;129;01mnot\u001b[39;00m \u001b[38;5;28;01mNone\u001b[39;00m \u001b[38;5;129;01mand\u001b[39;00m \u001b[38;5;124m'\u001b[39m\u001b[38;5;124mname\u001b[39m\u001b[38;5;124m'\u001b[39m \u001b[38;5;129;01min\u001b[39;00m stock_detail:\n\u001b[1;32m      7\u001b[0m     \u001b[38;5;66;03m#generate and save comments (only for valid stock)\u001b[39;00m\n\u001b[1;32m      8\u001b[0m     \u001b[38;5;28;01mif\u001b[39;00m is_otc:\n\u001b[0;32m----> 9\u001b[0m         comment_list \u001b[38;5;241m=\u001b[39m \u001b[43mget_rand_comments\u001b[49m\u001b[43m(\u001b[49m\u001b[43m)\u001b[49m\n\u001b[1;32m     10\u001b[0m         \u001b[38;5;28mprint\u001b[39m(\u001b[38;5;124m'\u001b[39m\u001b[38;5;124mComment number: \u001b[39m\u001b[38;5;124m'\u001b[39m \u001b[38;5;241m+\u001b[39m \u001b[38;5;28mstr\u001b[39m(\u001b[38;5;28mlen\u001b[39m(comment_list)))\n\u001b[1;32m     11\u001b[0m         \u001b[38;5;28;01mif\u001b[39;00m \u001b[38;5;28mlen\u001b[39m(comment_list) \u001b[38;5;241m>\u001b[39m \u001b[38;5;241m0\u001b[39m:\n\u001b[1;32m     12\u001b[0m             \u001b[38;5;66;03m#take each comment\u001b[39;00m\n",
      "Cell \u001b[0;32mIn[46], line 6\u001b[0m, in \u001b[0;36mget_rand_comments\u001b[0;34m()\u001b[0m\n\u001b[1;32m      4\u001b[0m fake_comments \u001b[38;5;241m=\u001b[39m post_request_gemini(\u001b[38;5;124m'\u001b[39m\u001b[38;5;124mGenerate \u001b[39m\u001b[38;5;124m'\u001b[39m\u001b[38;5;241m+\u001b[39m\u001b[38;5;28mstr\u001b[39m(comment_num)\u001b[38;5;241m+\u001b[39m\u001b[38;5;124m'\u001b[39m\u001b[38;5;124m random comments for this stock symbol \u001b[39m\u001b[38;5;124m'\u001b[39m \u001b[38;5;241m+\u001b[39m symbol \u001b[38;5;241m+\u001b[39m\u001b[38;5;124m\"\u001b[39m\u001b[38;5;124m natually as human saying. Each setence should have 30 to 50 words length.\u001b[39m\u001b[38;5;124m\"\u001b[39m) \u001b[38;5;66;03m#10 sec\u001b[39;00m\n\u001b[1;32m      5\u001b[0m \u001b[38;5;28mprint\u001b[39m(fake_comments)\n\u001b[0;32m----> 6\u001b[0m raw_comments \u001b[38;5;241m=\u001b[39m \u001b[43mfake_comments\u001b[49m\u001b[43m[\u001b[49m\u001b[38;5;124;43m'\u001b[39;49m\u001b[38;5;124;43mcandidates\u001b[39;49m\u001b[38;5;124;43m'\u001b[39;49m\u001b[43m]\u001b[49m[\u001b[38;5;241m0\u001b[39m][\u001b[38;5;124m'\u001b[39m\u001b[38;5;124mcontent\u001b[39m\u001b[38;5;124m'\u001b[39m][\u001b[38;5;124m'\u001b[39m\u001b[38;5;124mparts\u001b[39m\u001b[38;5;124m'\u001b[39m][\u001b[38;5;241m0\u001b[39m][\u001b[38;5;124m'\u001b[39m\u001b[38;5;124mtext\u001b[39m\u001b[38;5;124m'\u001b[39m]\n\u001b[1;32m      7\u001b[0m \u001b[38;5;66;03m#extract json structure\u001b[39;00m\n\u001b[1;32m      8\u001b[0m json_comments \u001b[38;5;241m=\u001b[39m extract_json(raw_comments)\n",
      "\u001b[0;31mKeyError\u001b[0m: 'candidates'"
     ]
    }
   ],
   "source": [
    "if symbol != '':\n",
    "    #1. Get stock detail\n",
    "    stock_detail_url = FINNHUB_URI + 'stock/profile2?symbol='+symbol+'&token=' + FINNHUB_KEY\n",
    "    stock_detail = custom_query(stock_detail_url)\n",
    "    #print(stock_detail)\n",
    "    if stock_detail is not None and 'name' in stock_detail:\n",
    "        #generate and save comments (only for valid stock)\n",
    "        if is_otc:\n",
    "            comment_list = get_rand_comments()\n",
    "            print('Comment number: ' + str(len(comment_list)))\n",
    "            if len(comment_list) > 0:\n",
    "                #take each comment\n",
    "                for json_comment in comment_list:\n",
    "                    #save comment to db\n",
    "                    comment_detail = insert_comment(json_comment['comment'])\n",
    "                    reply_list = get_rand_relies(json_comment['comment'])\n",
    "                    #print(reply_list)\n",
    "                    if len(reply_list) > 0:\n",
    "                        for str_reply in reply_list:\n",
    "                            insert_reply(str_reply, comment_detail)\n",
    "        #update stock info to db\n",
    "        # tbl_stock.update_one({'symbol': symbol}, {'$set':{\n",
    "        #         'name': stock_detail['name'],\n",
    "        #         'industry': stock_detail['finnhubIndustry'],\n",
    "        #         'ipo': stock_detail['ipo'],\n",
    "        #         'cap': stock_detail['marketCapitalization'],\n",
    "        #         'web': stock_detail['weburl']\n",
    "        #     }})\n",
    "    else:\n",
    "        #somehow cannot get detail of this stock, mark it to process later\n",
    "        tbl_stock.update_one({'symbol': symbol}, {'$set':{\n",
    "                \"name\" : \"no_detail\"\n",
    "            }})\n",
    "    print('Finish symbol ' + symbol)\n"
   ]
  },
  {
   "cell_type": "code",
   "execution_count": null,
   "metadata": {},
   "outputs": [],
   "source": []
  }
 ],
 "metadata": {
  "kernelspec": {
   "display_name": "Python 3",
   "language": "python",
   "name": "python3"
  },
  "language_info": {
   "codemirror_mode": {
    "name": "ipython",
    "version": 3
   },
   "file_extension": ".py",
   "mimetype": "text/x-python",
   "name": "python",
   "nbconvert_exporter": "python",
   "pygments_lexer": "ipython3",
   "version": "3.13.1"
  }
 },
 "nbformat": 4,
 "nbformat_minor": 2
}
