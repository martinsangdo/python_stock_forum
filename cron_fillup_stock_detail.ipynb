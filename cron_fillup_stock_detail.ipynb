{
 "cells": [
  {
   "cell_type": "code",
   "execution_count": 2,
   "metadata": {},
   "outputs": [],
   "source": [
    "import requests\n",
    "import pymongo"
   ]
  },
  {
   "cell_type": "code",
   "execution_count": 9,
   "metadata": {},
   "outputs": [],
   "source": [
    "from dotenv import load_dotenv\n",
    "load_dotenv() \n",
    "import os\n",
    "\n",
    "FINNHUB_KEY = os.environ['FINNHUB_KEY']\n",
    "FINNHUB_URI = os.environ['FINNHUB_URI']\n",
    "GG_GEMINI_API = os.environ['GG_GEMINI_API']"
   ]
  },
  {
   "cell_type": "markdown",
   "metadata": {},
   "source": [
    "1. Get 1 stock from db which there is no name\n",
    "2. Get basic detail of that stock\n",
    "3. Generate 10 - 20 random comments for that stock, with random like number\n",
    "4. Generate random 0 - 8 replies for each comment, with random like number\n",
    "5. Save comments and likes into db"
   ]
  },
  {
   "cell_type": "code",
   "execution_count": 5,
   "metadata": {},
   "outputs": [],
   "source": [
    "db_client = pymongo.MongoClient('mongodb://localhost:27017')\n",
    "collections = db_client['stock_forum']\n",
    "tbl_stock = collections['tbl_stock']"
   ]
  },
  {
   "cell_type": "code",
   "execution_count": 7,
   "metadata": {},
   "outputs": [
    {
     "name": "stdout",
     "output_type": "stream",
     "text": [
      "{'_id': ObjectId('678ac0362118fc1550f5d055'), 'symbol': 'TCRRF', 'mic': 'OOTC'}\n"
     ]
    }
   ],
   "source": [
    "db_stock = tbl_stock.find_one({'name': None})\n",
    "print(db_stock)\n",
    "\n",
    "symbol = ''\n",
    "if db_stock is not None:\n",
    "    symbol = db_stock['symbol']"
   ]
  },
  {
   "cell_type": "code",
   "execution_count": 10,
   "metadata": {},
   "outputs": [],
   "source": [
    "#query data from Finnhub but limit 30 APIs/second\n",
    "#https://finnhub.io/docs/api/stock-symbols\n",
    "def custom_query(get_url):\n",
    "    print(get_url)\n",
    "    try:\n",
    "        r = requests.get(get_url)\n",
    "        return r.json()\n",
    "    except Exception as e:\n",
    "       print(e)\n",
    "       return r"
   ]
  },
  {
   "cell_type": "markdown",
   "metadata": {},
   "source": [
    "\"country\": \"CA\",\n",
    "\"currency\": \"CAD\",\n",
    "\"estimateCurrency\": \"CAD\",\n",
    "\"exchange\": \"TSX VENTURE EXCHANGE - NEX\",\n",
    "\"finnhubIndustry\": \"Energy\",\n",
    "\"ipo\": \"2007-04-27\",\n",
    "\"logo\": \"https://static2.finnhub.io/file/publicdatany/finnhubimage/stock_logo/942976380016.png\",\n",
    "\"marketCapitalization\": 0.309138,\n",
    "\"name\": \"Terrace Energy Corp\",\n",
    "\"phone\": \"16042827897\",\n",
    "\"shareOutstanding\": 7.73,\n",
    "\"ticker\": \"TZR.H.V\",\n",
    "\"weburl\": \"http://terraceenergy.net/\","
   ]
  },
  {
   "cell_type": "code",
   "execution_count": 16,
   "metadata": {},
   "outputs": [
    {
     "name": "stdout",
     "output_type": "stream",
     "text": [
      "https://finnhub.io/api/v1/stock/profile2?symbol=TCRRF&token=cu5b37pr01qqj8u65ufgcu5b37pr01qqj8u65ug0\n"
     ]
    }
   ],
   "source": [
    "if symbol != '':\n",
    "    #1. Get stock detail\n",
    "    stock_detail_url = FINNHUB_URI + 'stock/profile2?symbol='+symbol+'&token=' + FINNHUB_KEY\n",
    "    stock_detail = custom_query(stock_detail_url)\n",
    "    #print(stock_detail)\n",
    "    if stock_detail is not None and 'name' in stock_detail:\n",
    "        #update to db\n",
    "        tbl_stock.update_one({'symbol': symbol}, {'$set':{\n",
    "                'name': stock_detail['name'],\n",
    "                'industry': stock_detail['finnhubIndustry'],\n",
    "                'ipo': stock_detail['ipo'],\n",
    "                'cap': stock_detail['marketCapitalization'],\n",
    "                'web': stock_detail['weburl']\n",
    "            }})\n"
   ]
  },
  {
   "cell_type": "code",
   "execution_count": null,
   "metadata": {},
   "outputs": [],
   "source": []
  }
 ],
 "metadata": {
  "kernelspec": {
   "display_name": "Python 3",
   "language": "python",
   "name": "python3"
  },
  "language_info": {
   "codemirror_mode": {
    "name": "ipython",
    "version": 3
   },
   "file_extension": ".py",
   "mimetype": "text/x-python",
   "name": "python",
   "nbconvert_exporter": "python",
   "pygments_lexer": "ipython3",
   "version": "3.13.1"
  }
 },
 "nbformat": 4,
 "nbformat_minor": 2
}
